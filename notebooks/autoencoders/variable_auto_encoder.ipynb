{
 "cells": [
  {
   "cell_type": "code",
   "execution_count": 4,
   "id": "2f4beaf9-2e65-44b3-a7b9-68b31b06ec34",
   "metadata": {},
   "outputs": [],
   "source": [
    "from tensorflow.keras import datasets\n",
    "from tensorflow.keras import layers, models, backend as K\n",
    "import numpy as np\n",
    "\n",
    "(x_train, y_train),(x_test, y_test) = datasets.fashion_mnist.load_data()"
   ]
  },
  {
   "cell_type": "code",
   "execution_count": 5,
   "id": "0b98b994-d94e-417e-9c50-4f735be27bf6",
   "metadata": {},
   "outputs": [],
   "source": [
    "# In this snippet, K.random_normal is a Keras function to generate random values following\n",
    "# a Gaussian distribution. 'shape' indicates the shape of the output tensor. It defines how many\n",
    "# random values we want to generate\n",
    "class Sampling(layers.Layer):\n",
    "    def call(self, inputs):\n",
    "        z_mean, z_log_var = inputs\n",
    "        batch = tf.shape(z_mean)[0]\n",
    "        dim = tf.shape(z_mean)[1]\n",
    "        epsilon = K.random_normal(shape=(batch, dim))\n",
    "        return z_mean + tf.exp(0.5 * z_log_var) * epsilon"
   ]
  },
  {
   "cell_type": "code",
   "execution_count": null,
   "id": "803518a0-3467-4173-8342-35b85563c006",
   "metadata": {},
   "outputs": [],
   "source": []
  }
 ],
 "metadata": {
  "kernelspec": {
   "display_name": "Python 3 (ipykernel)",
   "language": "python",
   "name": "python3"
  },
  "language_info": {
   "codemirror_mode": {
    "name": "ipython",
    "version": 3
   },
   "file_extension": ".py",
   "mimetype": "text/x-python",
   "name": "python",
   "nbconvert_exporter": "python",
   "pygments_lexer": "ipython3",
   "version": "3.8.10"
  }
 },
 "nbformat": 4,
 "nbformat_minor": 5
}
