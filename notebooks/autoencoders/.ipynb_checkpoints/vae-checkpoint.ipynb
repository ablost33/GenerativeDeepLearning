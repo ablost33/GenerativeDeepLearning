{
 "cells": [
  {
   "cell_type": "code",
   "execution_count": 7,
   "id": "2f4beaf9-2e65-44b3-a7b9-68b31b06ec34",
   "metadata": {},
   "outputs": [],
   "source": [
    "from tensorflow.keras import datasets\n",
    "from tensorflow.keras import layers, models, backend as K\n",
    "from tensorflow.keras import models, metrics, losses\n",
    "import numpy as np\n",
    "import tensorflow as tf\n",
    "\n",
    "\n",
    "(x_train, y_train),(x_test, y_test) = datasets.fashion_mnist.load_data()"
   ]
  },
  {
   "cell_type": "code",
   "execution_count": 9,
   "id": "27b687b0-3bfb-441e-a35a-ca460f0a7afa",
   "metadata": {},
   "outputs": [],
   "source": [
    "def preprocess(imgs):\n",
    "    imgs = imgs.astype(\"float32\") / 255.0\n",
    "    imgs = np.pad(imgs,((0, 0), (2, 2), (2, 2)), constant_values=0.0)\n",
    "    imgs = np.expand_dims(imgs, -1)\n",
    "    return imgs\n",
    "x_train = preprocess(x_train)\n",
    "x_test = preprocess(x_test)"
   ]
  },
  {
   "cell_type": "code",
   "execution_count": 10,
   "id": "0b98b994-d94e-417e-9c50-4f735be27bf6",
   "metadata": {},
   "outputs": [],
   "source": [
    "# In this snippet, K.random_normal is a Keras function to generate random values following\n",
    "# a Gaussian distribution. 'shape' indicates the shape of the output tensor. It defines how many\n",
    "# random values we want to generate\n",
    "class Sampling(layers.Layer):\n",
    "    def call(self, inputs):\n",
    "        z_mean, z_log_var = inputs\n",
    "        batch = tf.shape(z_mean)[0]\n",
    "        dim = tf.shape(z_mean)[1]\n",
    "        epsilon = K.random_normal(shape=(batch, dim))\n",
    "        return z_mean + tf.exp(0.5 * z_log_var) * epsilon"
   ]
  },
  {
   "cell_type": "code",
   "execution_count": 11,
   "id": "803518a0-3467-4173-8342-35b85563c006",
   "metadata": {},
   "outputs": [],
   "source": [
    "# Defining the encoder\n",
    "encoder_input = layers.Input(\n",
    "    shape=(32, 32, 1), name=\"encoder_input\"\n",
    ")\n",
    "x = layers.Conv2D(32,(3,3),strides=2,activation=\"relu\",padding=\"same\")(encoder_input)\n",
    "x = layers.Conv2D(64, (3,3),strides=2,activation=\"relu\",padding=\"same\")(x)\n",
    "x = layers.Conv2D(128,(3,3),strides=2,activation=\"relu\",padding=\"same\")(x)\n",
    "\n",
    "shape_before_flattening = K.int_shape(x)[1:]\n",
    "x = layers.Flatten()(x)\n",
    "z_mean = layers.Dense(2,name=\"z_mean\")(x)\n",
    "z_log_var = layers.Dense(2,name=\"z_log_var\")(x)\n",
    "z = Sampling()([z_mean, z_log_var])\n",
    "\n",
    "encoder = models.Model(encoder_input, [z_mean, z_log_var, z], name=\"encoder\")"
   ]
  },
  {
   "cell_type": "code",
   "execution_count": 12,
   "id": "a18b99b0-6816-4002-b144-40fe80aad700",
   "metadata": {},
   "outputs": [
    {
     "name": "stdout",
     "output_type": "stream",
     "text": [
      "Model: \"model_1\"\n",
      "_________________________________________________________________\n",
      " Layer (type)                Output Shape              Param #   \n",
      "=================================================================\n",
      " decoder_input (InputLayer)  [(None, 2)]               0         \n",
      "                                                                 \n",
      " dense_1 (Dense)             (None, 2048)              6144      \n",
      "                                                                 \n",
      " reshape_1 (Reshape)         (None, 4, 4, 128)         0         \n",
      "                                                                 \n",
      " conv2d_transpose_3 (Conv2DT  (None, 8, 8, 128)        147584    \n",
      " ranspose)                                                       \n",
      "                                                                 \n",
      " conv2d_transpose_4 (Conv2DT  (None, 16, 16, 64)       73792     \n",
      " ranspose)                                                       \n",
      "                                                                 \n",
      " conv2d_transpose_5 (Conv2DT  (None, 32, 32, 32)       18464     \n",
      " ranspose)                                                       \n",
      "                                                                 \n",
      " decoder_output (Conv2D)     (None, 32, 32, 1)         289       \n",
      "                                                                 \n",
      "=================================================================\n",
      "Total params: 246,273\n",
      "Trainable params: 246,273\n",
      "Non-trainable params: 0\n",
      "_________________________________________________________________\n"
     ]
    }
   ],
   "source": [
    "# Here we want to define the decoder\n",
    "decoder_input = layers.Input(shape=(2,), name=\"decoder_input\")\n",
    "x = layers.Dense(np.prod(shape_before_flattening))(decoder_input)\n",
    "x = layers.Reshape(shape_before_flattening)(x)\n",
    "x = layers.Conv2DTranspose(\n",
    "    128, (3,3),strides=2,activation=\"relu\",padding=\"same\"\n",
    ")(x)\n",
    "x = layers.Conv2DTranspose(\n",
    "    64, (3,3),strides=2,activation=\"relu\",padding=\"same\"\n",
    ")(x)\n",
    "x = layers.Conv2DTranspose(\n",
    "    32, (3,3),strides=2,activation=\"relu\",padding=\"same\"\n",
    ")(x)\n",
    "decoder_output = layers.Conv2D(\n",
    "    1,\n",
    "    (3,3),\n",
    "    strides=1,\n",
    "    activation=\"sigmoid\",\n",
    "    padding=\"same\",\n",
    "    name=\"decoder_output\",\n",
    ")(x)\n",
    "decoder = models.Model(decoder_input, decoder_output)\n",
    "decoder.summary()"
   ]
  },
  {
   "cell_type": "code",
   "execution_count": 13,
   "id": "eba61283-c4a4-40bc-992b-7dd45f75e279",
   "metadata": {},
   "outputs": [],
   "source": [
    "# Building the VAE as a subclass of the Keras Model class\n",
    "class VAE(models.Model):\n",
    "    def __init__(self, encoder, decoder, **kwargs):\n",
    "        super(VAE, self).__init__(**kwargs)\n",
    "        self.encoder = encoder\n",
    "        self.decoder = decoder\n",
    "        self.total_loss_tracker = metrics.Mean(name=\"total_loss\")\n",
    "        self.reconstruction_loss_tracker = metrics.Mean(\n",
    "            name=\"reconstruction_loss\"\n",
    "        )\n",
    "        self.kl_loss_tracker = metrics.Mean(name=\"kl_loss\")\n",
    "        \n",
    "    @property\n",
    "    def metrics(self):\n",
    "        return [\n",
    "            self.total_loss_tracker,\n",
    "            self.reconstruction_loss_tracker,\n",
    "            self.kl_loss_tracker\n",
    "        ]\n",
    "    \n",
    "    def call(self, inputs):\n",
    "        z_mean, z_log_var, z = encoder(inputs)\n",
    "        reconstruction = decoder(z)\n",
    "        return z_mean, z_log_var, reconstruction\n",
    "    \n",
    "    def train_step(self, data):\n",
    "        with tf.GradientTape() as tape:\n",
    "            z_mean, z_log_var, reconstruction = self(data)\n",
    "            reconstruction_loss = tf.reduce_mean(500 * losses.binary_crossentropy(data, reconstruction, axis=(1,2,3)))\n",
    "            kl_loss = tf.reduce_mean(\n",
    "                tf.reduce_sum(\n",
    "                    -0.5\n",
    "                    * (1 + z_log_var - tf.square(z_mean) - tf.exp(z_log_var)),\n",
    "                    axis = 1,\n",
    "                )\n",
    "            )\n",
    "            total_loss = reconstruction_loss + kl_loss\n",
    "            \n",
    "        grads = tape.gradient(total_loss, self.trainable_weights)\n",
    "        self.optimizer.apply_gradients(zip(grads, self.trainable_weights))\n",
    "        \n",
    "        self.total_loss_tracker.update_state(total_loss)\n",
    "        self.reconstruction_loss_tracker.update_state(reconstruction_loss)\n",
    "        self.kl_loss_tracker.update_state(kl_loss)\n",
    "        \n",
    "        return {m.name: m.result() for m in self.metrics}"
   ]
  },
  {
   "cell_type": "code",
   "execution_count": 20,
   "id": "79ebfbd2-ec2a-4c60-aec7-897740c0c0d7",
   "metadata": {},
   "outputs": [
    {
     "name": "stdout",
     "output_type": "stream",
     "text": [
      "Epoch 1/7\n",
      "300/300 [==============================] - 75s 248ms/step - total_loss: 129.6915 - reconstruction_loss: 124.2881 - kl_loss: 5.4035 - val_total_loss: 0.0000e+00 - val_reconstruction_loss: 0.0000e+00 - val_kl_loss: 0.0000e+00\n",
      "Epoch 2/7\n",
      "300/300 [==============================] - 79s 264ms/step - total_loss: 129.5183 - reconstruction_loss: 124.0685 - kl_loss: 5.4499 - val_total_loss: 0.0000e+00 - val_reconstruction_loss: 0.0000e+00 - val_kl_loss: 0.0000e+00\n",
      "Epoch 3/7\n",
      "300/300 [==============================] - 72s 239ms/step - total_loss: 129.3864 - reconstruction_loss: 123.9423 - kl_loss: 5.4441 - val_total_loss: 0.0000e+00 - val_reconstruction_loss: 0.0000e+00 - val_kl_loss: 0.0000e+00\n",
      "Epoch 4/7\n",
      "300/300 [==============================] - 73s 243ms/step - total_loss: 129.2545 - reconstruction_loss: 123.7941 - kl_loss: 5.4603 - val_total_loss: 0.0000e+00 - val_reconstruction_loss: 0.0000e+00 - val_kl_loss: 0.0000e+00\n",
      "Epoch 5/7\n",
      "300/300 [==============================] - 77s 256ms/step - total_loss: 129.1967 - reconstruction_loss: 123.7253 - kl_loss: 5.4714 - val_total_loss: 0.0000e+00 - val_reconstruction_loss: 0.0000e+00 - val_kl_loss: 0.0000e+00\n",
      "Epoch 6/7\n",
      "300/300 [==============================] - 73s 244ms/step - total_loss: 129.1155 - reconstruction_loss: 123.6421 - kl_loss: 5.4735 - val_total_loss: 0.0000e+00 - val_reconstruction_loss: 0.0000e+00 - val_kl_loss: 0.0000e+00\n",
      "Epoch 7/7\n",
      "300/300 [==============================] - 76s 253ms/step - total_loss: 129.0160 - reconstruction_loss: 123.5199 - kl_loss: 5.4961 - val_total_loss: 0.0000e+00 - val_reconstruction_loss: 0.0000e+00 - val_kl_loss: 0.0000e+00\n"
     ]
    },
    {
     "data": {
      "text/plain": [
       "<keras.callbacks.History at 0x7f414c68d730>"
      ]
     },
     "execution_count": 20,
     "metadata": {},
     "output_type": "execute_result"
    }
   ],
   "source": [
    "# Benchmark to beat: total_loss: 131.5970 - reconstruction_loss: 126.3598 - kl_loss: 5.2372, achieved with Adam\n",
    "# Using adam optimizer, with epochs 7, batch_size 200 we got total_loss: 129.8120 - reconstruction_loss: 124.4130 - kl_loss: 5.399\n",
    "from tensorflow.keras import optimizers\n",
    "\n",
    "vae = VAE(encoder, decoder)\n",
    "vae.compile(optimizer=\"adam\")\n",
    "vae.fit(\n",
    "    x_train,\n",
    "    epochs=7,\n",
    "    batch_size=200,\n",
    "    shuffle=True,\n",
    "    validation_data=(x_test, x_test),\n",
    ")"
   ]
  },
  {
   "cell_type": "code",
   "execution_count": null,
   "id": "9249034b-8cbc-49fb-bf63-3532677a3a1f",
   "metadata": {},
   "outputs": [],
   "source": []
  }
 ],
 "metadata": {
  "kernelspec": {
   "display_name": "Python 3 (ipykernel)",
   "language": "python",
   "name": "python3"
  },
  "language_info": {
   "codemirror_mode": {
    "name": "ipython",
    "version": 3
   },
   "file_extension": ".py",
   "mimetype": "text/x-python",
   "name": "python",
   "nbconvert_exporter": "python",
   "pygments_lexer": "ipython3",
   "version": "3.8.10"
  }
 },
 "nbformat": 4,
 "nbformat_minor": 5
}
