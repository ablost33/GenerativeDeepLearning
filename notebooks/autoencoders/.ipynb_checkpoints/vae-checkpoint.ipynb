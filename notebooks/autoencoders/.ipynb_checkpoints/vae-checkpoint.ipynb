{
 "cells": [
  {
   "cell_type": "code",
   "execution_count": 1,
   "id": "2f4beaf9-2e65-44b3-a7b9-68b31b06ec34",
   "metadata": {},
   "outputs": [
    {
     "name": "stderr",
     "output_type": "stream",
     "text": [
      "2024-02-29 05:17:11.463528: I tensorflow/core/platform/cpu_feature_guard.cc:193] This TensorFlow binary is optimized with oneAPI Deep Neural Network Library (oneDNN) to use the following CPU instructions in performance-critical operations:  AVX2 FMA\n",
      "To enable them in other operations, rebuild TensorFlow with the appropriate compiler flags.\n",
      "2024-02-29 05:17:12.054672: W tensorflow/stream_executor/platform/default/dso_loader.cc:64] Could not load dynamic library 'libcudart.so.11.0'; dlerror: libcudart.so.11.0: cannot open shared object file: No such file or directory\n",
      "2024-02-29 05:17:12.054705: I tensorflow/stream_executor/cuda/cudart_stub.cc:29] Ignore above cudart dlerror if you do not have a GPU set up on your machine.\n",
      "2024-02-29 05:17:12.148780: E tensorflow/stream_executor/cuda/cuda_blas.cc:2981] Unable to register cuBLAS factory: Attempting to register factory for plugin cuBLAS when one has already been registered\n",
      "2024-02-29 05:17:13.848348: W tensorflow/stream_executor/platform/default/dso_loader.cc:64] Could not load dynamic library 'libnvinfer.so.7'; dlerror: libnvinfer.so.7: cannot open shared object file: No such file or directory\n",
      "2024-02-29 05:17:13.848491: W tensorflow/stream_executor/platform/default/dso_loader.cc:64] Could not load dynamic library 'libnvinfer_plugin.so.7'; dlerror: libnvinfer_plugin.so.7: cannot open shared object file: No such file or directory\n",
      "2024-02-29 05:17:13.848504: W tensorflow/compiler/tf2tensorrt/utils/py_utils.cc:38] TF-TRT Warning: Cannot dlopen some TensorRT libraries. If you would like to use Nvidia GPU with TensorRT, please make sure the missing libraries mentioned above are installed properly.\n"
     ]
    }
   ],
   "source": [
    "from tensorflow.keras import datasets\n",
    "from tensorflow.keras import layers, models, backend as K\n",
    "from tensorflow.keras import models, metrics, losses\n",
    "import numpy as np\n",
    "import tensorflow as tf\n",
    "\n",
    "\n",
    "(x_train, y_train),(x_test, y_test) = datasets.fashion_mnist.load_data()"
   ]
  },
  {
   "cell_type": "code",
   "execution_count": 2,
   "id": "27b687b0-3bfb-441e-a35a-ca460f0a7afa",
   "metadata": {},
   "outputs": [],
   "source": [
    "def preprocess(imgs):\n",
    "    imgs = imgs.astype(\"float32\") / 255.0\n",
    "    imgs = np.pad(imgs,((0, 0), (2, 2), (2, 2)), constant_values=0.0)\n",
    "    imgs = np.expand_dims(imgs, -1)\n",
    "    return imgs\n",
    "x_train = preprocess(x_train)\n",
    "x_test = preprocess(x_test)"
   ]
  },
  {
   "cell_type": "code",
   "execution_count": 3,
   "id": "0b98b994-d94e-417e-9c50-4f735be27bf6",
   "metadata": {},
   "outputs": [],
   "source": [
    "# In this snippet, K.random_normal is a Keras function to generate random values following\n",
    "# a Gaussian distribution. 'shape' indicates the shape of the output tensor. It defines how many\n",
    "# random values we want to generate\n",
    "class Sampling(layers.Layer):\n",
    "    def call(self, inputs):\n",
    "        z_mean, z_log_var = inputs\n",
    "        batch = tf.shape(z_mean)[0]\n",
    "        dim = tf.shape(z_mean)[1]\n",
    "        epsilon = K.random_normal(shape=(batch, dim))\n",
    "        return z_mean + tf.exp(0.5 * z_log_var) * epsilon"
   ]
  },
  {
   "cell_type": "code",
   "execution_count": 4,
   "id": "803518a0-3467-4173-8342-35b85563c006",
   "metadata": {},
   "outputs": [
    {
     "name": "stderr",
     "output_type": "stream",
     "text": [
      "2024-02-29 05:17:17.781173: W tensorflow/stream_executor/platform/default/dso_loader.cc:64] Could not load dynamic library 'libcuda.so.1'; dlerror: libcuda.so.1: cannot open shared object file: No such file or directory\n",
      "2024-02-29 05:17:17.781825: W tensorflow/stream_executor/cuda/cuda_driver.cc:263] failed call to cuInit: UNKNOWN ERROR (303)\n",
      "2024-02-29 05:17:17.781858: I tensorflow/stream_executor/cuda/cuda_diagnostics.cc:156] kernel driver does not appear to be running on this host (b6aaffa9ad21): /proc/driver/nvidia/version does not exist\n",
      "2024-02-29 05:17:17.782685: I tensorflow/core/platform/cpu_feature_guard.cc:193] This TensorFlow binary is optimized with oneAPI Deep Neural Network Library (oneDNN) to use the following CPU instructions in performance-critical operations:  AVX2 FMA\n",
      "To enable them in other operations, rebuild TensorFlow with the appropriate compiler flags.\n"
     ]
    }
   ],
   "source": [
    "# Defining the encoder\n",
    "encoder_input = layers.Input(\n",
    "    shape=(32, 32, 1), name=\"encoder_input\"\n",
    ")\n",
    "x = layers.Conv2D(32,(3,3),strides=2,activation=\"relu\",padding=\"same\")(encoder_input)\n",
    "x = layers.Conv2D(64, (3,3),strides=2,activation=\"relu\",padding=\"same\")(x)\n",
    "x = layers.Conv2D(128,(3,3),strides=2,activation=\"relu\",padding=\"same\")(x)\n",
    "\n",
    "shape_before_flattening = K.int_shape(x)[1:]\n",
    "x = layers.Flatten()(x)\n",
    "z_mean = layers.Dense(2,name=\"z_mean\")(x)\n",
    "z_log_var = layers.Dense(2,name=\"z_log_var\")(x)\n",
    "z = Sampling()([z_mean, z_log_var])\n",
    "\n",
    "encoder = models.Model(encoder_input, [z_mean, z_log_var, z], name=\"encoder\")"
   ]
  },
  {
   "cell_type": "code",
   "execution_count": 5,
   "id": "a18b99b0-6816-4002-b144-40fe80aad700",
   "metadata": {},
   "outputs": [
    {
     "name": "stdout",
     "output_type": "stream",
     "text": [
      "Model: \"model\"\n",
      "_________________________________________________________________\n",
      " Layer (type)                Output Shape              Param #   \n",
      "=================================================================\n",
      " decoder_input (InputLayer)  [(None, 2)]               0         \n",
      "                                                                 \n",
      " dense (Dense)               (None, 2048)              6144      \n",
      "                                                                 \n",
      " reshape (Reshape)           (None, 4, 4, 128)         0         \n",
      "                                                                 \n",
      " conv2d_transpose (Conv2DTra  (None, 8, 8, 128)        147584    \n",
      " nspose)                                                         \n",
      "                                                                 \n",
      " conv2d_transpose_1 (Conv2DT  (None, 16, 16, 64)       73792     \n",
      " ranspose)                                                       \n",
      "                                                                 \n",
      " conv2d_transpose_2 (Conv2DT  (None, 32, 32, 32)       18464     \n",
      " ranspose)                                                       \n",
      "                                                                 \n",
      " decoder_output (Conv2D)     (None, 32, 32, 1)         289       \n",
      "                                                                 \n",
      "=================================================================\n",
      "Total params: 246,273\n",
      "Trainable params: 246,273\n",
      "Non-trainable params: 0\n",
      "_________________________________________________________________\n"
     ]
    }
   ],
   "source": [
    "# Here we want to define the decoder\n",
    "decoder_input = layers.Input(shape=(2,), name=\"decoder_input\")\n",
    "x = layers.Dense(np.prod(shape_before_flattening))(decoder_input)\n",
    "x = layers.Reshape(shape_before_flattening)(x)\n",
    "x = layers.Conv2DTranspose(\n",
    "    128, (3,3),strides=2,activation=\"relu\",padding=\"same\"\n",
    ")(x)\n",
    "x = layers.Conv2DTranspose(\n",
    "    64, (3,3),strides=2,activation=\"relu\",padding=\"same\"\n",
    ")(x)\n",
    "x = layers.Conv2DTranspose(\n",
    "    32, (3,3),strides=2,activation=\"relu\",padding=\"same\"\n",
    ")(x)\n",
    "decoder_output = layers.Conv2D(\n",
    "    1,\n",
    "    (3,3),\n",
    "    strides=1,\n",
    "    activation=\"sigmoid\",\n",
    "    padding=\"same\",\n",
    "    name=\"decoder_output\",\n",
    ")(x)\n",
    "decoder = models.Model(decoder_input, decoder_output)\n",
    "decoder.summary()"
   ]
  },
  {
   "cell_type": "code",
   "execution_count": 6,
   "id": "eba61283-c4a4-40bc-992b-7dd45f75e279",
   "metadata": {},
   "outputs": [],
   "source": [
    "# Building the VAE as a subclass of the Keras Model class\n",
    "class VAE(models.Model):\n",
    "    def __init__(self, encoder, decoder, **kwargs):\n",
    "        super(VAE, self).__init__(**kwargs)\n",
    "        self.encoder = encoder\n",
    "        self.decoder = decoder\n",
    "        self.total_loss_tracker = metrics.Mean(name=\"total_loss\")\n",
    "        self.reconstruction_loss_tracker = metrics.Mean(\n",
    "            name=\"reconstruction_loss\"\n",
    "        )\n",
    "        self.kl_loss_tracker = metrics.Mean(name=\"kl_loss\")\n",
    "        \n",
    "    @property\n",
    "    def metrics(self):\n",
    "        return [\n",
    "            self.total_loss_tracker,\n",
    "            self.reconstruction_loss_tracker,\n",
    "            self.kl_loss_tracker\n",
    "        ]\n",
    "    \n",
    "    def call(self, inputs):\n",
    "        z_mean, z_log_var, z = encoder(inputs)\n",
    "        reconstruction = decoder(z)\n",
    "        return z_mean, z_log_var, reconstruction\n",
    "    \n",
    "    def train_step(self, data):\n",
    "        with tf.GradientTape() as tape:\n",
    "            z_mean, z_log_var, reconstruction = self(data)\n",
    "            reconstruction_loss = tf.reduce_mean(500 * losses.binary_crossentropy(data, reconstruction, axis=(1,2,3)))\n",
    "            kl_loss = tf.reduce_mean(\n",
    "                tf.reduce_sum(\n",
    "                    -0.5\n",
    "                    * (1 + z_log_var - tf.square(z_mean) - tf.exp(z_log_var)),\n",
    "                    axis = 1,\n",
    "                )\n",
    "            )\n",
    "            total_loss = reconstruction_loss + kl_loss\n",
    "            \n",
    "        grads = tape.gradient(total_loss, self.trainable_weights)\n",
    "        self.optimizer.apply_gradients(zip(grads, self.trainable_weights))\n",
    "        \n",
    "        self.total_loss_tracker.update_state(total_loss)\n",
    "        self.reconstruction_loss_tracker.update_state(reconstruction_loss)\n",
    "        self.kl_loss_tracker.update_state(kl_loss)\n",
    "        \n",
    "        return {m.name: m.result() for m in self.metrics}"
   ]
  },
  {
   "cell_type": "code",
   "execution_count": 7,
   "id": "79ebfbd2-ec2a-4c60-aec7-897740c0c0d7",
   "metadata": {},
   "outputs": [
    {
     "name": "stdout",
     "output_type": "stream",
     "text": [
      "Epoch 1/7\n",
      "300/300 [==============================] - 86s 283ms/step - total_loss: 166.1740 - reconstruction_loss: 161.8909 - kl_loss: 4.2830 - val_total_loss: 0.0000e+00 - val_reconstruction_loss: 0.0000e+00 - val_kl_loss: 0.0000e+00\n",
      "Epoch 2/7\n",
      "300/300 [==============================] - 84s 282ms/step - total_loss: 136.3753 - reconstruction_loss: 131.4262 - kl_loss: 4.9491 - val_total_loss: 0.0000e+00 - val_reconstruction_loss: 0.0000e+00 - val_kl_loss: 0.0000e+00\n",
      "Epoch 3/7\n",
      "300/300 [==============================] - 94s 312ms/step - total_loss: 134.2885 - reconstruction_loss: 129.2384 - kl_loss: 5.0502 - val_total_loss: 0.0000e+00 - val_reconstruction_loss: 0.0000e+00 - val_kl_loss: 0.0000e+00\n",
      "Epoch 4/7\n",
      "300/300 [==============================] - 70s 234ms/step - total_loss: 133.2510 - reconstruction_loss: 128.1335 - kl_loss: 5.1176 - val_total_loss: 0.0000e+00 - val_reconstruction_loss: 0.0000e+00 - val_kl_loss: 0.0000e+00\n",
      "Epoch 5/7\n",
      "300/300 [==============================] - 78s 259ms/step - total_loss: 132.6393 - reconstruction_loss: 127.4690 - kl_loss: 5.1703 - val_total_loss: 0.0000e+00 - val_reconstruction_loss: 0.0000e+00 - val_kl_loss: 0.0000e+00\n",
      "Epoch 6/7\n",
      "300/300 [==============================] - 70s 232ms/step - total_loss: 132.1167 - reconstruction_loss: 126.8970 - kl_loss: 5.2197 - val_total_loss: 0.0000e+00 - val_reconstruction_loss: 0.0000e+00 - val_kl_loss: 0.0000e+00\n",
      "Epoch 7/7\n",
      "300/300 [==============================] - 70s 232ms/step - total_loss: 131.7222 - reconstruction_loss: 126.4761 - kl_loss: 5.2461 - val_total_loss: 0.0000e+00 - val_reconstruction_loss: 0.0000e+00 - val_kl_loss: 0.0000e+00\n"
     ]
    },
    {
     "data": {
      "text/plain": [
       "<keras.callbacks.History at 0x7f24c8b3b100>"
      ]
     },
     "execution_count": 7,
     "metadata": {},
     "output_type": "execute_result"
    }
   ],
   "source": [
    "# Benchmark to beat: total_loss: 131.5970 - reconstruction_loss: 126.3598 - kl_loss: 5.2372, achieved with Adam\n",
    "# Using adam optimizer, with epochs 7, batch_size 200 we got total_loss: 129.8120 - reconstruction_loss: 124.4130 - kl_loss: 5.399\n",
    "from tensorflow.keras import optimizers\n",
    "\n",
    "vae = VAE(encoder, decoder)\n",
    "vae.compile(optimizer=\"adam\")\n",
    "vae.fit(\n",
    "    x_train,\n",
    "    epochs=7,\n",
    "    batch_size=200,\n",
    "    shuffle=True,\n",
    "    validation_data=(x_test, x_test),\n",
    ")"
   ]
  },
  {
   "cell_type": "code",
   "execution_count": 11,
   "id": "9249034b-8cbc-49fb-bf63-3532677a3a1f",
   "metadata": {},
   "outputs": [],
   "source": [
    "examples_images = x_test[:500]\n",
    "example_labels = y_test[:500]"
   ]
  },
  {
   "cell_type": "code",
   "execution_count": 16,
   "id": "8e841e95-d38c-48f3-851f-3025ae67124c",
   "metadata": {},
   "outputs": [
    {
     "name": "stdout",
     "output_type": "stream",
     "text": [
      "16/16 [==============================] - 0s 13ms/step\n",
      "[[[[6.97562896e-08]\n",
      "   [1.51981971e-09]\n",
      "   [2.24107266e-09]\n",
      "   ...\n",
      "   [1.79084325e-09]\n",
      "   [1.09789315e-08]\n",
      "   [3.66823338e-06]]\n",
      "\n",
      "  [[1.91037117e-10]\n",
      "   [1.66661596e-12]\n",
      "   [9.79284622e-12]\n",
      "   ...\n",
      "   [9.96902783e-10]\n",
      "   [2.24511143e-09]\n",
      "   [5.05897162e-07]]\n",
      "\n",
      "  [[6.82658305e-11]\n",
      "   [4.03628303e-12]\n",
      "   [2.21844598e-10]\n",
      "   ...\n",
      "   [3.86310694e-06]\n",
      "   [2.65467747e-07]\n",
      "   [3.36546827e-06]]\n",
      "\n",
      "  ...\n",
      "\n",
      "  [[2.81765522e-09]\n",
      "   [9.26548394e-10]\n",
      "   [1.21932944e-08]\n",
      "   ...\n",
      "   [1.70302741e-08]\n",
      "   [2.33625252e-09]\n",
      "   [1.41681824e-07]]\n",
      "\n",
      "  [[4.72888608e-08]\n",
      "   [7.56023866e-09]\n",
      "   [7.61578534e-09]\n",
      "   ...\n",
      "   [1.63513239e-08]\n",
      "   [9.19409826e-10]\n",
      "   [7.87773828e-08]]\n",
      "\n",
      "  [[2.13174080e-05]\n",
      "   [2.22723884e-06]\n",
      "   [1.79155677e-06]\n",
      "   ...\n",
      "   [7.16860370e-07]\n",
      "   [2.94015337e-07]\n",
      "   [2.80355052e-05]]]\n",
      "\n",
      "\n",
      " [[[8.34505918e-05]\n",
      "   [6.37372750e-06]\n",
      "   [6.69438941e-06]\n",
      "   ...\n",
      "   [5.89558056e-07]\n",
      "   [1.45066360e-06]\n",
      "   [3.31423726e-05]]\n",
      "\n",
      "  [[2.86717818e-06]\n",
      "   [3.03778222e-07]\n",
      "   [1.07296898e-06]\n",
      "   ...\n",
      "   [2.51342925e-07]\n",
      "   [3.73311650e-07]\n",
      "   [8.78783248e-06]]\n",
      "\n",
      "  [[1.58345813e-06]\n",
      "   [8.09012533e-07]\n",
      "   [1.35256159e-05]\n",
      "   ...\n",
      "   [1.24699844e-04]\n",
      "   [2.13490039e-05]\n",
      "   [8.29199780e-05]]\n",
      "\n",
      "  ...\n",
      "\n",
      "  [[9.55134283e-07]\n",
      "   [3.94827703e-06]\n",
      "   [1.53841291e-04]\n",
      "   ...\n",
      "   [4.19134994e-05]\n",
      "   [1.33497833e-05]\n",
      "   [4.46440172e-05]]\n",
      "\n",
      "  [[4.23236997e-07]\n",
      "   [5.53217717e-07]\n",
      "   [2.34925919e-05]\n",
      "   ...\n",
      "   [1.24387884e-06]\n",
      "   [5.61998775e-07]\n",
      "   [7.38117524e-06]]\n",
      "\n",
      "  [[3.25444125e-05]\n",
      "   [1.54147911e-05]\n",
      "   [1.61076823e-04]\n",
      "   ...\n",
      "   [8.36874642e-06]\n",
      "   [1.11006393e-05]\n",
      "   [2.08418554e-04]]]]\n"
     ]
    }
   ],
   "source": [
    "z_mean, z_log_var, reconstructions = vae.predict(examples_images)\n",
    "print(reconstructions[:2])"
   ]
  },
  {
   "cell_type": "code",
   "execution_count": 20,
   "id": "fa6a160b-cf87-45be-bfbd-d746027576ea",
   "metadata": {},
   "outputs": [
    {
     "name": "stdout",
     "output_type": "stream",
     "text": [
      "16/16 [==============================] - 0s 4ms/step\n"
     ]
    },
    {
     "data": {
      "image/png": "[encoded data removed]",
      "text/plain": [
       "<Figure size 800x800 with 1 Axes>"
      ]
     },
     "metadata": {},
     "output_type": "display_data"
    }
   ],
   "source": [
    "z_mean, z_var, z = encoder.predict(examples_images)\n",
    "\n",
    "import matplotlib.pyplot as plt\n",
    "\n",
    "figsize = 8\n",
    "plt.figure(figsize=(figsize, figsize))\n",
    "plt.scatter(z[:, 0], z[:, 1], c=\"black\", alpha=0.5, s=3)\n",
    "plt.show()"
   ]
  }
 ],
 "metadata": {
  "kernelspec": {
   "display_name": "Python 3 (ipykernel)",
   "language": "python",
   "name": "python3"
  },
  "language_info": {
   "codemirror_mode": {
    "name": "ipython",
    "version": 3
   },
   "file_extension": ".py",
   "mimetype": "text/x-python",
   "name": "python",
   "nbconvert_exporter": "python",
   "pygments_lexer": "ipython3",
   "version": "3.8.10"
  }
 },
 "nbformat": 4,
 "nbformat_minor": 5
}
